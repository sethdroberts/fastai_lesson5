{
 "cells": [
  {
   "cell_type": "code",
   "execution_count": 3,
   "id": "c7654165-b5e7-4c8c-acef-86c48cb65977",
   "metadata": {
    "scrolled": true
   },
   "outputs": [
    {
     "name": "stdout",
     "output_type": "stream",
     "text": [
      "Collecting fastai\n",
      "  Downloading fastai-2.7.12-py3-none-any.whl (233 kB)\n",
      "\u001b[2K     \u001b[90m━━━━━━━━━━━━━━━━━━━━━━━━━━━━━━━━━━━━━━━\u001b[0m \u001b[32m233.1/233.1 kB\u001b[0m \u001b[31m5.3 MB/s\u001b[0m eta \u001b[36m0:00:00\u001b[0ma \u001b[36m0:00:01\u001b[0m\n",
      "\u001b[?25hRequirement already satisfied: pip in /usr/local/lib/python3.10/dist-packages (from fastai) (23.1.2)\n",
      "Requirement already satisfied: packaging in /usr/local/lib/python3.10/dist-packages (from fastai) (23.1)\n",
      "Collecting fastdownload<2,>=0.0.5 (from fastai)\n",
      "  Downloading fastdownload-0.0.7-py3-none-any.whl (12 kB)\n",
      "Collecting fastcore<1.6,>=1.5.29 (from fastai)\n",
      "  Downloading fastcore-1.5.29-py3-none-any.whl (67 kB)\n",
      "\u001b[2K     \u001b[90m━━━━━━━━━━━━━━━━━━━━━━━━━━━━━━━━━━━━━━━━\u001b[0m \u001b[32m67.6/67.6 kB\u001b[0m \u001b[31m16.9 MB/s\u001b[0m eta \u001b[36m0:00:00\u001b[0m\n",
      "\u001b[?25hRequirement already satisfied: torchvision>=0.8.2 in /usr/local/lib/python3.10/dist-packages (from fastai) (0.15.2+cu118)\n",
      "Collecting matplotlib (from fastai)\n",
      "  Downloading matplotlib-3.8.0-cp310-cp310-manylinux_2_17_x86_64.manylinux2014_x86_64.whl (11.6 MB)\n",
      "\u001b[2K     \u001b[90m━━━━━━━━━━━━━━━━━━━━━━━━━━━━━━━━━━━━━━━━\u001b[0m \u001b[32m11.6/11.6 MB\u001b[0m \u001b[31m36.2 MB/s\u001b[0m eta \u001b[36m0:00:00\u001b[0m00:01\u001b[0m00:01\u001b[0m\n",
      "\u001b[?25hCollecting pandas (from fastai)\n",
      "  Downloading pandas-2.1.1-cp310-cp310-manylinux_2_17_x86_64.manylinux2014_x86_64.whl (12.3 MB)\n",
      "\u001b[2K     \u001b[90m━━━━━━━━━━━━━━━━━━━━━━━━━━━━━━━━━━━━━━━━\u001b[0m \u001b[32m12.3/12.3 MB\u001b[0m \u001b[31m48.6 MB/s\u001b[0m eta \u001b[36m0:00:00\u001b[0m00:01\u001b[0m00:01\u001b[0m\n",
      "\u001b[?25hRequirement already satisfied: requests in /usr/local/lib/python3.10/dist-packages (from fastai) (2.28.1)\n",
      "Requirement already satisfied: pyyaml in /usr/local/lib/python3.10/dist-packages (from fastai) (6.0)\n",
      "Collecting fastprogress>=0.2.4 (from fastai)\n",
      "  Downloading fastprogress-1.0.3-py3-none-any.whl (12 kB)\n",
      "Requirement already satisfied: pillow>6.0.0 in /usr/local/lib/python3.10/dist-packages (from fastai) (9.3.0)\n",
      "Collecting scikit-learn (from fastai)\n",
      "  Downloading scikit_learn-1.3.1-cp310-cp310-manylinux_2_17_x86_64.manylinux2014_x86_64.whl (10.8 MB)\n",
      "\u001b[2K     \u001b[90m━━━━━━━━━━━━━━━━━━━━━━━━━━━━━━━━━━━━━━━━\u001b[0m \u001b[32m10.8/10.8 MB\u001b[0m \u001b[31m58.5 MB/s\u001b[0m eta \u001b[36m0:00:00\u001b[0m00:01\u001b[0m0:01\u001b[0m\n",
      "\u001b[?25hCollecting scipy (from fastai)\n",
      "  Downloading scipy-1.11.3-cp310-cp310-manylinux_2_17_x86_64.manylinux2014_x86_64.whl (36.4 MB)\n",
      "\u001b[2K     \u001b[90m━━━━━━━━━━━━━━━━━━━━━━━━━━━━━━━━━━━━━━━━\u001b[0m \u001b[32m36.4/36.4 MB\u001b[0m \u001b[31m9.1 MB/s\u001b[0m eta \u001b[36m0:00:00\u001b[0m:00:01\u001b[0m00:01\u001b[0m\n",
      "\u001b[?25hCollecting spacy<4 (from fastai)\n",
      "  Downloading spacy-3.7.1-cp310-cp310-manylinux_2_17_x86_64.manylinux2014_x86_64.whl (6.6 MB)\n",
      "\u001b[2K     \u001b[90m━━━━━━━━━━━━━━━━━━━━━━━━━━━━━━━━━━━━━━━━\u001b[0m \u001b[32m6.6/6.6 MB\u001b[0m \u001b[31m17.3 MB/s\u001b[0m eta \u001b[36m0:00:00\u001b[0m00:01\u001b[0m00:01\u001b[0m\n",
      "\u001b[?25hRequirement already satisfied: torch<2.1,>=1.7 in /usr/local/lib/python3.10/dist-packages (from fastai) (2.0.1+cu118)\n",
      "Collecting spacy-legacy<3.1.0,>=3.0.11 (from spacy<4->fastai)\n",
      "  Downloading spacy_legacy-3.0.12-py2.py3-none-any.whl (29 kB)\n",
      "Collecting spacy-loggers<2.0.0,>=1.0.0 (from spacy<4->fastai)\n",
      "  Downloading spacy_loggers-1.0.5-py3-none-any.whl (22 kB)\n",
      "Collecting murmurhash<1.1.0,>=0.28.0 (from spacy<4->fastai)\n",
      "  Downloading murmurhash-1.0.10-cp310-cp310-manylinux_2_5_x86_64.manylinux1_x86_64.manylinux_2_17_x86_64.manylinux2014_x86_64.whl (29 kB)\n",
      "Collecting cymem<2.1.0,>=2.0.2 (from spacy<4->fastai)\n",
      "  Downloading cymem-2.0.8-cp310-cp310-manylinux_2_17_x86_64.manylinux2014_x86_64.whl (46 kB)\n",
      "\u001b[2K     \u001b[90m━━━━━━━━━━━━━━━━━━━━━━━━━━━━━━━━━━━━━━━━\u001b[0m \u001b[32m46.1/46.1 kB\u001b[0m \u001b[31m16.4 MB/s\u001b[0m eta \u001b[36m0:00:00\u001b[0m\n",
      "\u001b[?25hCollecting preshed<3.1.0,>=3.0.2 (from spacy<4->fastai)\n",
      "  Downloading preshed-3.0.9-cp310-cp310-manylinux_2_5_x86_64.manylinux1_x86_64.manylinux_2_17_x86_64.manylinux2014_x86_64.whl (156 kB)\n",
      "\u001b[2K     \u001b[90m━━━━━━━━━━━━━━━━━━━━━━━━━━━━━━━━━━━━━━\u001b[0m \u001b[32m156.9/156.9 kB\u001b[0m \u001b[31m22.9 MB/s\u001b[0m eta \u001b[36m0:00:00\u001b[0m\n",
      "\u001b[?25hCollecting thinc<8.3.0,>=8.1.8 (from spacy<4->fastai)\n",
      "  Downloading thinc-8.2.1-cp310-cp310-manylinux_2_17_x86_64.manylinux2014_x86_64.whl (920 kB)\n",
      "\u001b[2K     \u001b[90m━━━━━━━━━━━━━━━━━━━━━━━━━━━━━━━━━━━━━━\u001b[0m \u001b[32m920.6/920.6 kB\u001b[0m \u001b[31m35.5 MB/s\u001b[0m eta \u001b[36m0:00:00\u001b[0m\n",
      "\u001b[?25hCollecting wasabi<1.2.0,>=0.9.1 (from spacy<4->fastai)\n",
      "  Downloading wasabi-1.1.2-py3-none-any.whl (27 kB)\n",
      "Collecting srsly<3.0.0,>=2.4.3 (from spacy<4->fastai)\n",
      "  Downloading srsly-2.4.8-cp310-cp310-manylinux_2_17_x86_64.manylinux2014_x86_64.whl (493 kB)\n",
      "\u001b[2K     \u001b[90m━━━━━━━━━━━━━━━━━━━━━━━━━━━━━━━━━━━━━━\u001b[0m \u001b[32m493.0/493.0 kB\u001b[0m \u001b[31m37.4 MB/s\u001b[0m eta \u001b[36m0:00:00\u001b[0m\n",
      "\u001b[?25hCollecting catalogue<2.1.0,>=2.0.6 (from spacy<4->fastai)\n",
      "  Downloading catalogue-2.0.10-py3-none-any.whl (17 kB)\n",
      "Collecting weasel<0.4.0,>=0.1.0 (from spacy<4->fastai)\n",
      "  Downloading weasel-0.3.2-py3-none-any.whl (50 kB)\n",
      "\u001b[2K     \u001b[90m━━━━━━━━━━━━━━━━━━━━━━━━━━━━━━━━━━━━━━━━\u001b[0m \u001b[32m50.0/50.0 kB\u001b[0m \u001b[31m23.8 MB/s\u001b[0m eta \u001b[36m0:00:00\u001b[0m\n",
      "\u001b[?25hCollecting typer<0.10.0,>=0.3.0 (from spacy<4->fastai)\n",
      "  Downloading typer-0.9.0-py3-none-any.whl (45 kB)\n",
      "\u001b[2K     \u001b[90m━━━━━━━━━━━━━━━━━━━━━━━━━━━━━━━━━━━━━━━━\u001b[0m \u001b[32m45.9/45.9 kB\u001b[0m \u001b[31m17.5 MB/s\u001b[0m eta \u001b[36m0:00:00\u001b[0m\n",
      "\u001b[?25hCollecting pathy>=0.10.0 (from spacy<4->fastai)\n",
      "  Downloading pathy-0.10.2-py3-none-any.whl (48 kB)\n",
      "\u001b[2K     \u001b[90m━━━━━━━━━━━━━━━━━━━━━━━━━━━━━━━━━━━━━━━━\u001b[0m \u001b[32m48.9/48.9 kB\u001b[0m \u001b[31m18.5 MB/s\u001b[0m eta \u001b[36m0:00:00\u001b[0m\n",
      "\u001b[?25hCollecting smart-open<7.0.0,>=5.2.1 (from spacy<4->fastai)\n",
      "  Downloading smart_open-6.4.0-py3-none-any.whl (57 kB)\n",
      "\u001b[2K     \u001b[90m━━━━━━━━━━━━━━━━━━━━━━━━━━━━━━━━━━━━━━━━\u001b[0m \u001b[32m57.0/57.0 kB\u001b[0m \u001b[31m24.1 MB/s\u001b[0m eta \u001b[36m0:00:00\u001b[0m\n",
      "\u001b[?25hCollecting tqdm<5.0.0,>=4.38.0 (from spacy<4->fastai)\n",
      "  Downloading tqdm-4.66.1-py3-none-any.whl (78 kB)\n",
      "\u001b[2K     \u001b[90m━━━━━━━━━━━━━━━━━━━━━━━━━━━━━━━━━━━━━━━━\u001b[0m \u001b[32m78.3/78.3 kB\u001b[0m \u001b[31m35.8 MB/s\u001b[0m eta \u001b[36m0:00:00\u001b[0m\n",
      "\u001b[?25hCollecting pydantic!=1.8,!=1.8.1,<3.0.0,>=1.7.4 (from spacy<4->fastai)\n",
      "  Downloading pydantic-2.4.2-py3-none-any.whl (395 kB)\n",
      "\u001b[2K     \u001b[90m━━━━━━━━━━━━━━━━━━━━━━━━━━━━━━━━━━━━━━\u001b[0m \u001b[32m395.8/395.8 kB\u001b[0m \u001b[31m31.8 MB/s\u001b[0m eta \u001b[36m0:00:00\u001b[0m\n",
      "\u001b[?25hRequirement already satisfied: jinja2 in /usr/local/lib/python3.10/dist-packages (from spacy<4->fastai) (3.1.2)\n",
      "Requirement already satisfied: setuptools in /usr/local/lib/python3.10/dist-packages (from spacy<4->fastai) (68.0.0)\n",
      "Collecting langcodes<4.0.0,>=3.2.0 (from spacy<4->fastai)\n",
      "  Downloading langcodes-3.3.0-py3-none-any.whl (181 kB)\n",
      "\u001b[2K     \u001b[90m━━━━━━━━━━━━━━━━━━━━━━━━━━━━━━━━━━━━━━\u001b[0m \u001b[32m181.6/181.6 kB\u001b[0m \u001b[31m29.9 MB/s\u001b[0m eta \u001b[36m0:00:00\u001b[0m\n",
      "\u001b[?25hRequirement already satisfied: numpy>=1.19.0 in /usr/local/lib/python3.10/dist-packages (from spacy<4->fastai) (1.24.1)\n",
      "Requirement already satisfied: charset-normalizer<3,>=2 in /usr/local/lib/python3.10/dist-packages (from requests->fastai) (2.1.1)\n",
      "Requirement already satisfied: idna<4,>=2.5 in /usr/local/lib/python3.10/dist-packages (from requests->fastai) (3.4)\n",
      "Requirement already satisfied: urllib3<1.27,>=1.21.1 in /usr/local/lib/python3.10/dist-packages (from requests->fastai) (1.26.13)\n",
      "Requirement already satisfied: certifi>=2017.4.17 in /usr/local/lib/python3.10/dist-packages (from requests->fastai) (2022.12.7)\n",
      "Requirement already satisfied: filelock in /usr/local/lib/python3.10/dist-packages (from torch<2.1,>=1.7->fastai) (3.9.0)\n",
      "Requirement already satisfied: typing-extensions in /usr/local/lib/python3.10/dist-packages (from torch<2.1,>=1.7->fastai) (4.4.0)\n",
      "Requirement already satisfied: sympy in /usr/local/lib/python3.10/dist-packages (from torch<2.1,>=1.7->fastai) (1.11.1)\n",
      "Requirement already satisfied: networkx in /usr/local/lib/python3.10/dist-packages (from torch<2.1,>=1.7->fastai) (3.0)\n",
      "Requirement already satisfied: triton==2.0.0 in /usr/local/lib/python3.10/dist-packages (from torch<2.1,>=1.7->fastai) (2.0.0)\n",
      "Requirement already satisfied: cmake in /usr/local/lib/python3.10/dist-packages (from triton==2.0.0->torch<2.1,>=1.7->fastai) (3.25.0)\n",
      "Requirement already satisfied: lit in /usr/local/lib/python3.10/dist-packages (from triton==2.0.0->torch<2.1,>=1.7->fastai) (15.0.7)\n",
      "Collecting contourpy>=1.0.1 (from matplotlib->fastai)\n",
      "  Downloading contourpy-1.1.1-cp310-cp310-manylinux_2_17_x86_64.manylinux2014_x86_64.whl (301 kB)\n",
      "\u001b[2K     \u001b[90m━━━━━━━━━━━━━━━━━━━━━━━━━━━━━━━━━━━━━━\u001b[0m \u001b[32m301.7/301.7 kB\u001b[0m \u001b[31m33.1 MB/s\u001b[0m eta \u001b[36m0:00:00\u001b[0m\n",
      "\u001b[?25hCollecting cycler>=0.10 (from matplotlib->fastai)\n",
      "  Downloading cycler-0.12.1-py3-none-any.whl (8.3 kB)\n",
      "Collecting fonttools>=4.22.0 (from matplotlib->fastai)\n",
      "  Downloading fonttools-4.43.1-cp310-cp310-manylinux_2_17_x86_64.manylinux2014_x86_64.whl (4.5 MB)\n",
      "\u001b[2K     \u001b[90m━━━━━━━━━━━━━━━━━━━━━━━━━━━━━━━━━━━━━━━━\u001b[0m \u001b[32m4.5/4.5 MB\u001b[0m \u001b[31m37.0 MB/s\u001b[0m eta \u001b[36m0:00:00\u001b[0m00:01\u001b[0m00:01\u001b[0m\n",
      "\u001b[?25hCollecting kiwisolver>=1.0.1 (from matplotlib->fastai)\n",
      "  Downloading kiwisolver-1.4.5-cp310-cp310-manylinux_2_12_x86_64.manylinux2010_x86_64.whl (1.6 MB)\n",
      "\u001b[2K     \u001b[90m━━━━━━━━━━━━━━━━━━━━━━━━━━━━━━━━━━━━━━━━\u001b[0m \u001b[32m1.6/1.6 MB\u001b[0m \u001b[31m37.8 MB/s\u001b[0m eta \u001b[36m0:00:00\u001b[0ma \u001b[36m0:00:01\u001b[0m\n",
      "\u001b[?25hRequirement already satisfied: pyparsing>=2.3.1 in /usr/lib/python3/dist-packages (from matplotlib->fastai) (2.4.7)\n",
      "Requirement already satisfied: python-dateutil>=2.7 in /usr/local/lib/python3.10/dist-packages (from matplotlib->fastai) (2.8.2)\n",
      "Collecting pytz>=2020.1 (from pandas->fastai)\n",
      "  Downloading pytz-2023.3.post1-py2.py3-none-any.whl (502 kB)\n",
      "\u001b[2K     \u001b[90m━━━━━━━━━━━━━━━━━━━━━━━━━━━━━━━━━━━━━━\u001b[0m \u001b[32m502.5/502.5 kB\u001b[0m \u001b[31m50.2 MB/s\u001b[0m eta \u001b[36m0:00:00\u001b[0m\n",
      "\u001b[?25hCollecting tzdata>=2022.1 (from pandas->fastai)\n",
      "  Downloading tzdata-2023.3-py2.py3-none-any.whl (341 kB)\n",
      "\u001b[2K     \u001b[90m━━━━━━━━━━━━━━━━━━━━━━━━━━━━━━━━━━━━━━\u001b[0m \u001b[32m341.8/341.8 kB\u001b[0m \u001b[31m37.6 MB/s\u001b[0m eta \u001b[36m0:00:00\u001b[0m\n",
      "\u001b[?25hCollecting joblib>=1.1.1 (from scikit-learn->fastai)\n",
      "  Downloading joblib-1.3.2-py3-none-any.whl (302 kB)\n",
      "\u001b[2K     \u001b[90m━━━━━━━━━━━━━━━━━━━━━━━━━━━━━━━━━━━━━━\u001b[0m \u001b[32m302.2/302.2 kB\u001b[0m \u001b[31m29.3 MB/s\u001b[0m eta \u001b[36m0:00:00\u001b[0m\n",
      "\u001b[?25hCollecting threadpoolctl>=2.0.0 (from scikit-learn->fastai)\n",
      "  Downloading threadpoolctl-3.2.0-py3-none-any.whl (15 kB)\n",
      "Collecting annotated-types>=0.4.0 (from pydantic!=1.8,!=1.8.1,<3.0.0,>=1.7.4->spacy<4->fastai)\n",
      "  Downloading annotated_types-0.6.0-py3-none-any.whl (12 kB)\n",
      "Collecting pydantic-core==2.10.1 (from pydantic!=1.8,!=1.8.1,<3.0.0,>=1.7.4->spacy<4->fastai)\n",
      "  Downloading pydantic_core-2.10.1-cp310-cp310-manylinux_2_17_x86_64.manylinux2014_x86_64.whl (2.0 MB)\n",
      "\u001b[2K     \u001b[90m━━━━━━━━━━━━━━━━━━━━━━━━━━━━━━━━━━━━━━━━\u001b[0m \u001b[32m2.0/2.0 MB\u001b[0m \u001b[31m40.5 MB/s\u001b[0m eta \u001b[36m0:00:00\u001b[0ma \u001b[36m0:00:01\u001b[0m\n",
      "\u001b[?25hCollecting typing-extensions (from torch<2.1,>=1.7->fastai)\n",
      "  Downloading typing_extensions-4.8.0-py3-none-any.whl (31 kB)\n",
      "Requirement already satisfied: six>=1.5 in /usr/lib/python3/dist-packages (from python-dateutil>=2.7->matplotlib->fastai) (1.16.0)\n",
      "Collecting blis<0.8.0,>=0.7.8 (from thinc<8.3.0,>=8.1.8->spacy<4->fastai)\n",
      "  Downloading blis-0.7.11-cp310-cp310-manylinux_2_17_x86_64.manylinux2014_x86_64.whl (10.2 MB)\n",
      "\u001b[2K     \u001b[90m━━━━━━━━━━━━━━━━━━━━━━━━━━━━━━━━━━━━━━━━\u001b[0m \u001b[32m10.2/10.2 MB\u001b[0m \u001b[31m44.4 MB/s\u001b[0m eta \u001b[36m0:00:00\u001b[0m00:01\u001b[0m0:01\u001b[0m\n",
      "\u001b[?25hCollecting confection<1.0.0,>=0.0.1 (from thinc<8.3.0,>=8.1.8->spacy<4->fastai)\n",
      "  Downloading confection-0.1.3-py3-none-any.whl (34 kB)\n",
      "Collecting click<9.0.0,>=7.1.1 (from typer<0.10.0,>=0.3.0->spacy<4->fastai)\n",
      "  Downloading click-8.1.7-py3-none-any.whl (97 kB)\n",
      "\u001b[2K     \u001b[90m━━━━━━━━━━━━━━━━━━━━━━━━━━━━━━━━━━━━━━━━\u001b[0m \u001b[32m97.9/97.9 kB\u001b[0m \u001b[31m50.8 MB/s\u001b[0m eta \u001b[36m0:00:00\u001b[0m\n",
      "\u001b[?25hCollecting cloudpathlib<0.16.0,>=0.7.0 (from weasel<0.4.0,>=0.1.0->spacy<4->fastai)\n",
      "  Downloading cloudpathlib-0.15.1-py3-none-any.whl (43 kB)\n",
      "\u001b[2K     \u001b[90m━━━━━━━━━━━━━━━━━━━━━━━━━━━━━━━━━━━━━━━━\u001b[0m \u001b[32m43.9/43.9 kB\u001b[0m \u001b[31m24.8 MB/s\u001b[0m eta \u001b[36m0:00:00\u001b[0m\n",
      "\u001b[?25hRequirement already satisfied: MarkupSafe>=2.0 in /usr/local/lib/python3.10/dist-packages (from jinja2->spacy<4->fastai) (2.1.2)\n",
      "Requirement already satisfied: mpmath>=0.19 in /usr/local/lib/python3.10/dist-packages (from sympy->torch<2.1,>=1.7->fastai) (1.2.1)\n",
      "Installing collected packages: pytz, cymem, wasabi, tzdata, typing-extensions, tqdm, threadpoolctl, spacy-loggers, spacy-legacy, smart-open, scipy, murmurhash, langcodes, kiwisolver, joblib, fonttools, fastprogress, fastcore, cycler, contourpy, click, catalogue, blis, annotated-types, typer, srsly, scikit-learn, pydantic-core, preshed, pandas, matplotlib, fastdownload, cloudpathlib, pydantic, pathy, confection, weasel, thinc, spacy, fastai\n",
      "  Attempting uninstall: typing-extensions\n",
      "    Found existing installation: typing_extensions 4.4.0\n",
      "    Uninstalling typing_extensions-4.4.0:\n",
      "      Successfully uninstalled typing_extensions-4.4.0\n",
      "Successfully installed annotated-types-0.6.0 blis-0.7.11 catalogue-2.0.10 click-8.1.7 cloudpathlib-0.15.1 confection-0.1.3 contourpy-1.1.1 cycler-0.12.1 cymem-2.0.8 fastai-2.7.12 fastcore-1.5.29 fastdownload-0.0.7 fastprogress-1.0.3 fonttools-4.43.1 joblib-1.3.2 kiwisolver-1.4.5 langcodes-3.3.0 matplotlib-3.8.0 murmurhash-1.0.10 pandas-2.1.1 pathy-0.10.2 preshed-3.0.9 pydantic-2.4.2 pydantic-core-2.10.1 pytz-2023.3.post1 scikit-learn-1.3.1 scipy-1.11.3 smart-open-6.4.0 spacy-3.7.1 spacy-legacy-3.0.12 spacy-loggers-1.0.5 srsly-2.4.8 thinc-8.2.1 threadpoolctl-3.2.0 tqdm-4.66.1 typer-0.9.0 typing-extensions-4.8.0 tzdata-2023.3 wasabi-1.1.2 weasel-0.3.2\n",
      "\u001b[33mWARNING: Running pip as the 'root' user can result in broken permissions and conflicting behaviour with the system package manager. It is recommended to use a virtual environment instead: https://pip.pypa.io/warnings/venv\u001b[0m\u001b[33m\n",
      "\u001b[0m\n",
      "\u001b[1m[\u001b[0m\u001b[34;49mnotice\u001b[0m\u001b[1;39;49m]\u001b[0m\u001b[39;49m A new release of pip is available: \u001b[0m\u001b[31;49m23.1.2\u001b[0m\u001b[39;49m -> \u001b[0m\u001b[32;49m23.2.1\u001b[0m\n",
      "\u001b[1m[\u001b[0m\u001b[34;49mnotice\u001b[0m\u001b[1;39;49m]\u001b[0m\u001b[39;49m To update, run: \u001b[0m\u001b[32;49mpython -m pip install --upgrade pip\u001b[0m\n",
      "Note: you may need to restart the kernel to use updated packages.\n"
     ]
    }
   ],
   "source": [
    "pip install fastai"
   ]
  },
  {
   "cell_type": "code",
   "execution_count": 5,
   "id": "030535d8-4995-4447-b064-fc8d18404fc5",
   "metadata": {},
   "outputs": [],
   "source": [
    "from fastai.vision.all import *\n",
    "\n",
    "matplotlib.rc('image', cmap='Greys')"
   ]
  },
  {
   "cell_type": "code",
   "execution_count": 6,
   "id": "1ec833b8-1446-44bb-80ec-e8ac593e9cc8",
   "metadata": {},
   "outputs": [
    {
     "data": {
      "text/html": [
       "\n",
       "<style>\n",
       "    /* Turns off some styling */\n",
       "    progress {\n",
       "        /* gets rid of default border in Firefox and Opera. */\n",
       "        border: none;\n",
       "        /* Needs to be in here for Safari polyfill so background images work as expected. */\n",
       "        background-size: auto;\n",
       "    }\n",
       "    progress:not([value]), progress:not([value])::-webkit-progress-bar {\n",
       "        background: repeating-linear-gradient(45deg, #7e7e7e, #7e7e7e 10px, #5c5c5c 10px, #5c5c5c 20px);\n",
       "    }\n",
       "    .progress-bar-interrupted, .progress-bar-interrupted::-webkit-progress-bar {\n",
       "        background: #F44336;\n",
       "    }\n",
       "</style>\n"
      ],
      "text/plain": [
       "<IPython.core.display.HTML object>"
      ]
     },
     "metadata": {},
     "output_type": "display_data"
    },
    {
     "data": {
      "text/html": [
       "\n",
       "    <div>\n",
       "      <progress value='3219456' class='' max='3214948' style='width:300px; height:20px; vertical-align: middle;'></progress>\n",
       "      100.14% [3219456/3214948 00:00&lt;00:00]\n",
       "    </div>\n",
       "    "
      ],
      "text/plain": [
       "<IPython.core.display.HTML object>"
      ]
     },
     "metadata": {},
     "output_type": "display_data"
    }
   ],
   "source": [
    "path = untar_data(URLs.MNIST_SAMPLE)"
   ]
  },
  {
   "cell_type": "code",
   "execution_count": 7,
   "id": "44eb7bf4-a69b-48c8-a3ab-04660a273646",
   "metadata": {},
   "outputs": [],
   "source": [
    "Path.BASE_PATH = path"
   ]
  },
  {
   "cell_type": "code",
   "execution_count": 8,
   "id": "a72133c8-8e0f-430d-bf11-87e3d01cbdae",
   "metadata": {},
   "outputs": [
    {
     "data": {
      "text/plain": [
       "(#3) [Path('labels.csv'),Path('valid'),Path('train')]"
      ]
     },
     "execution_count": 8,
     "metadata": {},
     "output_type": "execute_result"
    }
   ],
   "source": [
    "path.ls()"
   ]
  },
  {
   "cell_type": "code",
   "execution_count": 10,
   "id": "a5fd9ba2-5099-4fc1-8426-61a520df222c",
   "metadata": {},
   "outputs": [
    {
     "data": {
      "text/plain": [
       "(#2) [Path('train/3'),Path('train/7')]"
      ]
     },
     "execution_count": 10,
     "metadata": {},
     "output_type": "execute_result"
    }
   ],
   "source": [
    "(path/'train').ls()"
   ]
  },
  {
   "cell_type": "code",
   "execution_count": 11,
   "id": "7570bc7b-a344-4831-a746-b8436d938160",
   "metadata": {
    "collapsed": true,
    "jupyter": {
     "outputs_hidden": true
    }
   },
   "outputs": [
    {
     "data": {
      "text/plain": [
       "(#6131) [Path('train/3/10.png'),Path('train/3/10000.png'),Path('train/3/10011.png'),Path('train/3/10031.png'),Path('train/3/10034.png'),Path('train/3/10042.png'),Path('train/3/10052.png'),Path('train/3/1007.png'),Path('train/3/10074.png'),Path('train/3/10091.png')...]"
      ]
     },
     "execution_count": 11,
     "metadata": {},
     "output_type": "execute_result"
    }
   ],
   "source": [
    "threes = (path/'train'/'3').ls().sorted()\n",
    "sevens = (path/'train'/'7').ls().sorted()\n",
    "threes"
   ]
  },
  {
   "cell_type": "code",
   "execution_count": 12,
   "id": "2880f8ca-9663-46bf-9723-e8970fb90e91",
   "metadata": {},
   "outputs": [
    {
     "data": {
      "image/png": "[encoded data removed]",
      "text/plain": [
       "<PIL.PngImagePlugin.PngImageFile image mode=L size=28x28>"
      ]
     },
     "execution_count": 12,
     "metadata": {},
     "output_type": "execute_result"
    }
   ],
   "source": [
    "im3_path = threes[1]\n",
    "im3 = Image.open(im3_path)\n",
    "im3"
   ]
  },
  {
   "cell_type": "code",
   "execution_count": 13,
   "id": "8586eefc-9b88-4329-a28e-5b81cc409766",
   "metadata": {},
   "outputs": [
    {
     "data": {
      "text/plain": [
       "array([[  0,   0,   0,   0,   0,   0],\n",
       "       [  0,   0,   0,   0,   0,  29],\n",
       "       [  0,   0,   0,  48, 166, 224],\n",
       "       [  0,  93, 244, 249, 253, 187],\n",
       "       [  0, 107, 253, 253, 230,  48],\n",
       "       [  0,   3,  20,  20,  15,   0]], dtype=uint8)"
      ]
     },
     "execution_count": 13,
     "metadata": {},
     "output_type": "execute_result"
    }
   ],
   "source": [
    "array(im3) [4:10, 4:10]"
   ]
  },
  {
   "cell_type": "code",
   "execution_count": 16,
   "id": "a71749cc-10d2-49ab-8c64-f3b99c9bd1d1",
   "metadata": {},
   "outputs": [
    {
     "data": {
      "text/plain": [
       "tensor([[  0,   0,   0,   0,   0,   0],\n",
       "        [  0,   0,   0,   0,   0,  29],\n",
       "        [  0,   0,   0,  48, 166, 224],\n",
       "        [  0,  93, 244, 249, 253, 187],\n",
       "        [  0, 107, 253, 253, 230,  48],\n",
       "        [  0,   3,  20,  20,  15,   0]], dtype=torch.uint8)"
      ]
     },
     "execution_count": 16,
     "metadata": {},
     "output_type": "execute_result"
    }
   ],
   "source": [
    "tensor(im3)[4:10, 4:10]"
   ]
  },
  {
   "cell_type": "code",
   "execution_count": 18,
   "id": "fd096657-dcc5-43ef-ab46-b6e10939f123",
   "metadata": {},
   "outputs": [
    {
     "data": {
      "text/html": [
       "<style type=\"text/css\">\n",
       "#T_d1847_row0_col0, #T_d1847_row0_col1, #T_d1847_row0_col2, #T_d1847_row0_col3, #T_d1847_row0_col4, #T_d1847_row0_col5, #T_d1847_row0_col6, #T_d1847_row0_col7, #T_d1847_row0_col8, #T_d1847_row0_col9, #T_d1847_row0_col10, #T_d1847_row0_col11, #T_d1847_row0_col12, #T_d1847_row0_col13, #T_d1847_row0_col14, #T_d1847_row0_col15, #T_d1847_row0_col16, #T_d1847_row0_col17, #T_d1847_row1_col0, #T_d1847_row1_col1, #T_d1847_row1_col2, #T_d1847_row1_col3, #T_d1847_row1_col4, #T_d1847_row1_col15, #T_d1847_row1_col16, #T_d1847_row1_col17, #T_d1847_row2_col0, #T_d1847_row2_col1, #T_d1847_row2_col2, #T_d1847_row2_col15, #T_d1847_row2_col16, #T_d1847_row2_col17, #T_d1847_row3_col0, #T_d1847_row3_col15, #T_d1847_row3_col16, #T_d1847_row3_col17, #T_d1847_row4_col0, #T_d1847_row4_col6, #T_d1847_row4_col7, #T_d1847_row4_col8, #T_d1847_row4_col9, #T_d1847_row4_col10, #T_d1847_row4_col15, #T_d1847_row4_col16, #T_d1847_row4_col17, #T_d1847_row5_col0, #T_d1847_row5_col5, #T_d1847_row5_col6, #T_d1847_row5_col7, #T_d1847_row5_col8, #T_d1847_row5_col9, #T_d1847_row5_col15, #T_d1847_row5_col16, #T_d1847_row5_col17, #T_d1847_row6_col0, #T_d1847_row6_col1, #T_d1847_row6_col2, #T_d1847_row6_col3, #T_d1847_row6_col4, #T_d1847_row6_col5, #T_d1847_row6_col6, #T_d1847_row6_col7, #T_d1847_row6_col8, #T_d1847_row6_col9, #T_d1847_row6_col14, #T_d1847_row6_col15, #T_d1847_row6_col16, #T_d1847_row6_col17, #T_d1847_row7_col0, #T_d1847_row7_col1, #T_d1847_row7_col2, #T_d1847_row7_col3, #T_d1847_row7_col4, #T_d1847_row7_col5, #T_d1847_row7_col6, #T_d1847_row7_col13, #T_d1847_row7_col14, #T_d1847_row7_col15, #T_d1847_row7_col16, #T_d1847_row7_col17, #T_d1847_row8_col0, #T_d1847_row8_col1, #T_d1847_row8_col2, #T_d1847_row8_col3, #T_d1847_row8_col4, #T_d1847_row8_col13, #T_d1847_row8_col14, #T_d1847_row8_col15, #T_d1847_row8_col16, #T_d1847_row8_col17, #T_d1847_row9_col0, #T_d1847_row9_col1, #T_d1847_row9_col2, #T_d1847_row9_col3, #T_d1847_row9_col4, #T_d1847_row9_col16, #T_d1847_row9_col17, #T_d1847_row10_col0, #T_d1847_row10_col1, #T_d1847_row10_col2, #T_d1847_row10_col3, #T_d1847_row10_col4, #T_d1847_row10_col5, #T_d1847_row10_col6, #T_d1847_row10_col17 {\n",
       "  font-size: 6pt;\n",
       "  background-color: #ffffff;\n",
       "  color: #000000;\n",
       "}\n",
       "#T_d1847_row1_col5 {\n",
       "  font-size: 6pt;\n",
       "  background-color: #efefef;\n",
       "  color: #000000;\n",
       "}\n",
       "#T_d1847_row1_col6, #T_d1847_row1_col13 {\n",
       "  font-size: 6pt;\n",
       "  background-color: #7c7c7c;\n",
       "  color: #f1f1f1;\n",
       "}\n",
       "#T_d1847_row1_col7 {\n",
       "  font-size: 6pt;\n",
       "  background-color: #4a4a4a;\n",
       "  color: #f1f1f1;\n",
       "}\n",
       "#T_d1847_row1_col8, #T_d1847_row1_col9, #T_d1847_row1_col10, #T_d1847_row2_col5, #T_d1847_row2_col6, #T_d1847_row2_col7, #T_d1847_row2_col11, #T_d1847_row2_col12, #T_d1847_row2_col13, #T_d1847_row3_col4, #T_d1847_row3_col12, #T_d1847_row3_col13, #T_d1847_row4_col1, #T_d1847_row4_col2, #T_d1847_row4_col3, #T_d1847_row4_col12, #T_d1847_row4_col13, #T_d1847_row5_col12, #T_d1847_row6_col11, #T_d1847_row9_col11, #T_d1847_row10_col11, #T_d1847_row10_col12, #T_d1847_row10_col13, #T_d1847_row10_col14, #T_d1847_row10_col15, #T_d1847_row10_col16 {\n",
       "  font-size: 6pt;\n",
       "  background-color: #000000;\n",
       "  color: #f1f1f1;\n",
       "}\n",
       "#T_d1847_row1_col11 {\n",
       "  font-size: 6pt;\n",
       "  background-color: #606060;\n",
       "  color: #f1f1f1;\n",
       "}\n",
       "#T_d1847_row1_col12 {\n",
       "  font-size: 6pt;\n",
       "  background-color: #4d4d4d;\n",
       "  color: #f1f1f1;\n",
       "}\n",
       "#T_d1847_row1_col14 {\n",
       "  font-size: 6pt;\n",
       "  background-color: #bbbbbb;\n",
       "  color: #000000;\n",
       "}\n",
       "#T_d1847_row2_col3 {\n",
       "  font-size: 6pt;\n",
       "  background-color: #e4e4e4;\n",
       "  color: #000000;\n",
       "}\n",
       "#T_d1847_row2_col4, #T_d1847_row8_col6 {\n",
       "  font-size: 6pt;\n",
       "  background-color: #6b6b6b;\n",
       "  color: #f1f1f1;\n",
       "}\n",
       "#T_d1847_row2_col8, #T_d1847_row2_col14, #T_d1847_row3_col14 {\n",
       "  font-size: 6pt;\n",
       "  background-color: #171717;\n",
       "  color: #f1f1f1;\n",
       "}\n",
       "#T_d1847_row2_col9, #T_d1847_row3_col11 {\n",
       "  font-size: 6pt;\n",
       "  background-color: #4b4b4b;\n",
       "  color: #f1f1f1;\n",
       "}\n",
       "#T_d1847_row2_col10, #T_d1847_row7_col10, #T_d1847_row8_col8, #T_d1847_row8_col10, #T_d1847_row9_col8, #T_d1847_row9_col10 {\n",
       "  font-size: 6pt;\n",
       "  background-color: #010101;\n",
       "  color: #f1f1f1;\n",
       "}\n",
       "#T_d1847_row3_col1 {\n",
       "  font-size: 6pt;\n",
       "  background-color: #272727;\n",
       "  color: #f1f1f1;\n",
       "}\n",
       "#T_d1847_row3_col2 {\n",
       "  font-size: 6pt;\n",
       "  background-color: #0a0a0a;\n",
       "  color: #f1f1f1;\n",
       "}\n",
       "#T_d1847_row3_col3 {\n",
       "  font-size: 6pt;\n",
       "  background-color: #050505;\n",
       "  color: #f1f1f1;\n",
       "}\n",
       "#T_d1847_row3_col5 {\n",
       "  font-size: 6pt;\n",
       "  background-color: #333333;\n",
       "  color: #f1f1f1;\n",
       "}\n",
       "#T_d1847_row3_col6 {\n",
       "  font-size: 6pt;\n",
       "  background-color: #e6e6e6;\n",
       "  color: #000000;\n",
       "}\n",
       "#T_d1847_row3_col7, #T_d1847_row3_col10 {\n",
       "  font-size: 6pt;\n",
       "  background-color: #fafafa;\n",
       "  color: #000000;\n",
       "}\n",
       "#T_d1847_row3_col8 {\n",
       "  font-size: 6pt;\n",
       "  background-color: #fbfbfb;\n",
       "  color: #000000;\n",
       "}\n",
       "#T_d1847_row3_col9 {\n",
       "  font-size: 6pt;\n",
       "  background-color: #fdfdfd;\n",
       "  color: #000000;\n",
       "}\n",
       "#T_d1847_row4_col4 {\n",
       "  font-size: 6pt;\n",
       "  background-color: #1b1b1b;\n",
       "  color: #f1f1f1;\n",
       "}\n",
       "#T_d1847_row4_col5 {\n",
       "  font-size: 6pt;\n",
       "  background-color: #e0e0e0;\n",
       "  color: #000000;\n",
       "}\n",
       "#T_d1847_row4_col11 {\n",
       "  font-size: 6pt;\n",
       "  background-color: #4e4e4e;\n",
       "  color: #f1f1f1;\n",
       "}\n",
       "#T_d1847_row4_col14 {\n",
       "  font-size: 6pt;\n",
       "  background-color: #767676;\n",
       "  color: #f1f1f1;\n",
       "}\n",
       "#T_d1847_row5_col1 {\n",
       "  font-size: 6pt;\n",
       "  background-color: #fcfcfc;\n",
       "  color: #000000;\n",
       "}\n",
       "#T_d1847_row5_col2, #T_d1847_row5_col3 {\n",
       "  font-size: 6pt;\n",
       "  background-color: #f6f6f6;\n",
       "  color: #000000;\n",
       "}\n",
       "#T_d1847_row5_col4, #T_d1847_row7_col7 {\n",
       "  font-size: 6pt;\n",
       "  background-color: #f8f8f8;\n",
       "  color: #000000;\n",
       "}\n",
       "#T_d1847_row5_col10, #T_d1847_row10_col7 {\n",
       "  font-size: 6pt;\n",
       "  background-color: #e8e8e8;\n",
       "  color: #000000;\n",
       "}\n",
       "#T_d1847_row5_col11 {\n",
       "  font-size: 6pt;\n",
       "  background-color: #222222;\n",
       "  color: #f1f1f1;\n",
       "}\n",
       "#T_d1847_row5_col13, #T_d1847_row6_col12 {\n",
       "  font-size: 6pt;\n",
       "  background-color: #090909;\n",
       "  color: #f1f1f1;\n",
       "}\n",
       "#T_d1847_row5_col14 {\n",
       "  font-size: 6pt;\n",
       "  background-color: #d0d0d0;\n",
       "  color: #000000;\n",
       "}\n",
       "#T_d1847_row6_col10, #T_d1847_row7_col11, #T_d1847_row9_col6 {\n",
       "  font-size: 6pt;\n",
       "  background-color: #060606;\n",
       "  color: #f1f1f1;\n",
       "}\n",
       "#T_d1847_row6_col13 {\n",
       "  font-size: 6pt;\n",
       "  background-color: #979797;\n",
       "  color: #f1f1f1;\n",
       "}\n",
       "#T_d1847_row7_col8 {\n",
       "  font-size: 6pt;\n",
       "  background-color: #b6b6b6;\n",
       "  color: #000000;\n",
       "}\n",
       "#T_d1847_row7_col9 {\n",
       "  font-size: 6pt;\n",
       "  background-color: #252525;\n",
       "  color: #f1f1f1;\n",
       "}\n",
       "#T_d1847_row7_col12 {\n",
       "  font-size: 6pt;\n",
       "  background-color: #999999;\n",
       "  color: #f1f1f1;\n",
       "}\n",
       "#T_d1847_row8_col5 {\n",
       "  font-size: 6pt;\n",
       "  background-color: #f9f9f9;\n",
       "  color: #000000;\n",
       "}\n",
       "#T_d1847_row8_col7 {\n",
       "  font-size: 6pt;\n",
       "  background-color: #101010;\n",
       "  color: #f1f1f1;\n",
       "}\n",
       "#T_d1847_row8_col9, #T_d1847_row9_col9 {\n",
       "  font-size: 6pt;\n",
       "  background-color: #020202;\n",
       "  color: #f1f1f1;\n",
       "}\n",
       "#T_d1847_row8_col11 {\n",
       "  font-size: 6pt;\n",
       "  background-color: #545454;\n",
       "  color: #f1f1f1;\n",
       "}\n",
       "#T_d1847_row8_col12 {\n",
       "  font-size: 6pt;\n",
       "  background-color: #f1f1f1;\n",
       "  color: #000000;\n",
       "}\n",
       "#T_d1847_row9_col5 {\n",
       "  font-size: 6pt;\n",
       "  background-color: #f7f7f7;\n",
       "  color: #000000;\n",
       "}\n",
       "#T_d1847_row9_col7 {\n",
       "  font-size: 6pt;\n",
       "  background-color: #030303;\n",
       "  color: #f1f1f1;\n",
       "}\n",
       "#T_d1847_row9_col12 {\n",
       "  font-size: 6pt;\n",
       "  background-color: #181818;\n",
       "  color: #f1f1f1;\n",
       "}\n",
       "#T_d1847_row9_col13 {\n",
       "  font-size: 6pt;\n",
       "  background-color: #303030;\n",
       "  color: #f1f1f1;\n",
       "}\n",
       "#T_d1847_row9_col14 {\n",
       "  font-size: 6pt;\n",
       "  background-color: #a9a9a9;\n",
       "  color: #f1f1f1;\n",
       "}\n",
       "#T_d1847_row9_col15 {\n",
       "  font-size: 6pt;\n",
       "  background-color: #fefefe;\n",
       "  color: #000000;\n",
       "}\n",
       "#T_d1847_row10_col8, #T_d1847_row10_col9 {\n",
       "  font-size: 6pt;\n",
       "  background-color: #bababa;\n",
       "  color: #000000;\n",
       "}\n",
       "#T_d1847_row10_col10 {\n",
       "  font-size: 6pt;\n",
       "  background-color: #393939;\n",
       "  color: #f1f1f1;\n",
       "}\n",
       "</style>\n",
       "<table id=\"T_d1847\">\n",
       "  <thead>\n",
       "    <tr>\n",
       "      <th class=\"blank level0\" >&nbsp;</th>\n",
       "      <th id=\"T_d1847_level0_col0\" class=\"col_heading level0 col0\" >0</th>\n",
       "      <th id=\"T_d1847_level0_col1\" class=\"col_heading level0 col1\" >1</th>\n",
       "      <th id=\"T_d1847_level0_col2\" class=\"col_heading level0 col2\" >2</th>\n",
       "      <th id=\"T_d1847_level0_col3\" class=\"col_heading level0 col3\" >3</th>\n",
       "      <th id=\"T_d1847_level0_col4\" class=\"col_heading level0 col4\" >4</th>\n",
       "      <th id=\"T_d1847_level0_col5\" class=\"col_heading level0 col5\" >5</th>\n",
       "      <th id=\"T_d1847_level0_col6\" class=\"col_heading level0 col6\" >6</th>\n",
       "      <th id=\"T_d1847_level0_col7\" class=\"col_heading level0 col7\" >7</th>\n",
       "      <th id=\"T_d1847_level0_col8\" class=\"col_heading level0 col8\" >8</th>\n",
       "      <th id=\"T_d1847_level0_col9\" class=\"col_heading level0 col9\" >9</th>\n",
       "      <th id=\"T_d1847_level0_col10\" class=\"col_heading level0 col10\" >10</th>\n",
       "      <th id=\"T_d1847_level0_col11\" class=\"col_heading level0 col11\" >11</th>\n",
       "      <th id=\"T_d1847_level0_col12\" class=\"col_heading level0 col12\" >12</th>\n",
       "      <th id=\"T_d1847_level0_col13\" class=\"col_heading level0 col13\" >13</th>\n",
       "      <th id=\"T_d1847_level0_col14\" class=\"col_heading level0 col14\" >14</th>\n",
       "      <th id=\"T_d1847_level0_col15\" class=\"col_heading level0 col15\" >15</th>\n",
       "      <th id=\"T_d1847_level0_col16\" class=\"col_heading level0 col16\" >16</th>\n",
       "      <th id=\"T_d1847_level0_col17\" class=\"col_heading level0 col17\" >17</th>\n",
       "    </tr>\n",
       "  </thead>\n",
       "  <tbody>\n",
       "    <tr>\n",
       "      <th id=\"T_d1847_level0_row0\" class=\"row_heading level0 row0\" >0</th>\n",
       "      <td id=\"T_d1847_row0_col0\" class=\"data row0 col0\" >0</td>\n",
       "      <td id=\"T_d1847_row0_col1\" class=\"data row0 col1\" >0</td>\n",
       "      <td id=\"T_d1847_row0_col2\" class=\"data row0 col2\" >0</td>\n",
       "      <td id=\"T_d1847_row0_col3\" class=\"data row0 col3\" >0</td>\n",
       "      <td id=\"T_d1847_row0_col4\" class=\"data row0 col4\" >0</td>\n",
       "      <td id=\"T_d1847_row0_col5\" class=\"data row0 col5\" >0</td>\n",
       "      <td id=\"T_d1847_row0_col6\" class=\"data row0 col6\" >0</td>\n",
       "      <td id=\"T_d1847_row0_col7\" class=\"data row0 col7\" >0</td>\n",
       "      <td id=\"T_d1847_row0_col8\" class=\"data row0 col8\" >0</td>\n",
       "      <td id=\"T_d1847_row0_col9\" class=\"data row0 col9\" >0</td>\n",
       "      <td id=\"T_d1847_row0_col10\" class=\"data row0 col10\" >0</td>\n",
       "      <td id=\"T_d1847_row0_col11\" class=\"data row0 col11\" >0</td>\n",
       "      <td id=\"T_d1847_row0_col12\" class=\"data row0 col12\" >0</td>\n",
       "      <td id=\"T_d1847_row0_col13\" class=\"data row0 col13\" >0</td>\n",
       "      <td id=\"T_d1847_row0_col14\" class=\"data row0 col14\" >0</td>\n",
       "      <td id=\"T_d1847_row0_col15\" class=\"data row0 col15\" >0</td>\n",
       "      <td id=\"T_d1847_row0_col16\" class=\"data row0 col16\" >0</td>\n",
       "      <td id=\"T_d1847_row0_col17\" class=\"data row0 col17\" >0</td>\n",
       "    </tr>\n",
       "    <tr>\n",
       "      <th id=\"T_d1847_level0_row1\" class=\"row_heading level0 row1\" >1</th>\n",
       "      <td id=\"T_d1847_row1_col0\" class=\"data row1 col0\" >0</td>\n",
       "      <td id=\"T_d1847_row1_col1\" class=\"data row1 col1\" >0</td>\n",
       "      <td id=\"T_d1847_row1_col2\" class=\"data row1 col2\" >0</td>\n",
       "      <td id=\"T_d1847_row1_col3\" class=\"data row1 col3\" >0</td>\n",
       "      <td id=\"T_d1847_row1_col4\" class=\"data row1 col4\" >0</td>\n",
       "      <td id=\"T_d1847_row1_col5\" class=\"data row1 col5\" >29</td>\n",
       "      <td id=\"T_d1847_row1_col6\" class=\"data row1 col6\" >150</td>\n",
       "      <td id=\"T_d1847_row1_col7\" class=\"data row1 col7\" >195</td>\n",
       "      <td id=\"T_d1847_row1_col8\" class=\"data row1 col8\" >254</td>\n",
       "      <td id=\"T_d1847_row1_col9\" class=\"data row1 col9\" >255</td>\n",
       "      <td id=\"T_d1847_row1_col10\" class=\"data row1 col10\" >254</td>\n",
       "      <td id=\"T_d1847_row1_col11\" class=\"data row1 col11\" >176</td>\n",
       "      <td id=\"T_d1847_row1_col12\" class=\"data row1 col12\" >193</td>\n",
       "      <td id=\"T_d1847_row1_col13\" class=\"data row1 col13\" >150</td>\n",
       "      <td id=\"T_d1847_row1_col14\" class=\"data row1 col14\" >96</td>\n",
       "      <td id=\"T_d1847_row1_col15\" class=\"data row1 col15\" >0</td>\n",
       "      <td id=\"T_d1847_row1_col16\" class=\"data row1 col16\" >0</td>\n",
       "      <td id=\"T_d1847_row1_col17\" class=\"data row1 col17\" >0</td>\n",
       "    </tr>\n",
       "    <tr>\n",
       "      <th id=\"T_d1847_level0_row2\" class=\"row_heading level0 row2\" >2</th>\n",
       "      <td id=\"T_d1847_row2_col0\" class=\"data row2 col0\" >0</td>\n",
       "      <td id=\"T_d1847_row2_col1\" class=\"data row2 col1\" >0</td>\n",
       "      <td id=\"T_d1847_row2_col2\" class=\"data row2 col2\" >0</td>\n",
       "      <td id=\"T_d1847_row2_col3\" class=\"data row2 col3\" >48</td>\n",
       "      <td id=\"T_d1847_row2_col4\" class=\"data row2 col4\" >166</td>\n",
       "      <td id=\"T_d1847_row2_col5\" class=\"data row2 col5\" >224</td>\n",
       "      <td id=\"T_d1847_row2_col6\" class=\"data row2 col6\" >253</td>\n",
       "      <td id=\"T_d1847_row2_col7\" class=\"data row2 col7\" >253</td>\n",
       "      <td id=\"T_d1847_row2_col8\" class=\"data row2 col8\" >234</td>\n",
       "      <td id=\"T_d1847_row2_col9\" class=\"data row2 col9\" >196</td>\n",
       "      <td id=\"T_d1847_row2_col10\" class=\"data row2 col10\" >253</td>\n",
       "      <td id=\"T_d1847_row2_col11\" class=\"data row2 col11\" >253</td>\n",
       "      <td id=\"T_d1847_row2_col12\" class=\"data row2 col12\" >253</td>\n",
       "      <td id=\"T_d1847_row2_col13\" class=\"data row2 col13\" >253</td>\n",
       "      <td id=\"T_d1847_row2_col14\" class=\"data row2 col14\" >233</td>\n",
       "      <td id=\"T_d1847_row2_col15\" class=\"data row2 col15\" >0</td>\n",
       "      <td id=\"T_d1847_row2_col16\" class=\"data row2 col16\" >0</td>\n",
       "      <td id=\"T_d1847_row2_col17\" class=\"data row2 col17\" >0</td>\n",
       "    </tr>\n",
       "    <tr>\n",
       "      <th id=\"T_d1847_level0_row3\" class=\"row_heading level0 row3\" >3</th>\n",
       "      <td id=\"T_d1847_row3_col0\" class=\"data row3 col0\" >0</td>\n",
       "      <td id=\"T_d1847_row3_col1\" class=\"data row3 col1\" >93</td>\n",
       "      <td id=\"T_d1847_row3_col2\" class=\"data row3 col2\" >244</td>\n",
       "      <td id=\"T_d1847_row3_col3\" class=\"data row3 col3\" >249</td>\n",
       "      <td id=\"T_d1847_row3_col4\" class=\"data row3 col4\" >253</td>\n",
       "      <td id=\"T_d1847_row3_col5\" class=\"data row3 col5\" >187</td>\n",
       "      <td id=\"T_d1847_row3_col6\" class=\"data row3 col6\" >46</td>\n",
       "      <td id=\"T_d1847_row3_col7\" class=\"data row3 col7\" >10</td>\n",
       "      <td id=\"T_d1847_row3_col8\" class=\"data row3 col8\" >8</td>\n",
       "      <td id=\"T_d1847_row3_col9\" class=\"data row3 col9\" >4</td>\n",
       "      <td id=\"T_d1847_row3_col10\" class=\"data row3 col10\" >10</td>\n",
       "      <td id=\"T_d1847_row3_col11\" class=\"data row3 col11\" >194</td>\n",
       "      <td id=\"T_d1847_row3_col12\" class=\"data row3 col12\" >253</td>\n",
       "      <td id=\"T_d1847_row3_col13\" class=\"data row3 col13\" >253</td>\n",
       "      <td id=\"T_d1847_row3_col14\" class=\"data row3 col14\" >233</td>\n",
       "      <td id=\"T_d1847_row3_col15\" class=\"data row3 col15\" >0</td>\n",
       "      <td id=\"T_d1847_row3_col16\" class=\"data row3 col16\" >0</td>\n",
       "      <td id=\"T_d1847_row3_col17\" class=\"data row3 col17\" >0</td>\n",
       "    </tr>\n",
       "    <tr>\n",
       "      <th id=\"T_d1847_level0_row4\" class=\"row_heading level0 row4\" >4</th>\n",
       "      <td id=\"T_d1847_row4_col0\" class=\"data row4 col0\" >0</td>\n",
       "      <td id=\"T_d1847_row4_col1\" class=\"data row4 col1\" >107</td>\n",
       "      <td id=\"T_d1847_row4_col2\" class=\"data row4 col2\" >253</td>\n",
       "      <td id=\"T_d1847_row4_col3\" class=\"data row4 col3\" >253</td>\n",
       "      <td id=\"T_d1847_row4_col4\" class=\"data row4 col4\" >230</td>\n",
       "      <td id=\"T_d1847_row4_col5\" class=\"data row4 col5\" >48</td>\n",
       "      <td id=\"T_d1847_row4_col6\" class=\"data row4 col6\" >0</td>\n",
       "      <td id=\"T_d1847_row4_col7\" class=\"data row4 col7\" >0</td>\n",
       "      <td id=\"T_d1847_row4_col8\" class=\"data row4 col8\" >0</td>\n",
       "      <td id=\"T_d1847_row4_col9\" class=\"data row4 col9\" >0</td>\n",
       "      <td id=\"T_d1847_row4_col10\" class=\"data row4 col10\" >0</td>\n",
       "      <td id=\"T_d1847_row4_col11\" class=\"data row4 col11\" >192</td>\n",
       "      <td id=\"T_d1847_row4_col12\" class=\"data row4 col12\" >253</td>\n",
       "      <td id=\"T_d1847_row4_col13\" class=\"data row4 col13\" >253</td>\n",
       "      <td id=\"T_d1847_row4_col14\" class=\"data row4 col14\" >156</td>\n",
       "      <td id=\"T_d1847_row4_col15\" class=\"data row4 col15\" >0</td>\n",
       "      <td id=\"T_d1847_row4_col16\" class=\"data row4 col16\" >0</td>\n",
       "      <td id=\"T_d1847_row4_col17\" class=\"data row4 col17\" >0</td>\n",
       "    </tr>\n",
       "    <tr>\n",
       "      <th id=\"T_d1847_level0_row5\" class=\"row_heading level0 row5\" >5</th>\n",
       "      <td id=\"T_d1847_row5_col0\" class=\"data row5 col0\" >0</td>\n",
       "      <td id=\"T_d1847_row5_col1\" class=\"data row5 col1\" >3</td>\n",
       "      <td id=\"T_d1847_row5_col2\" class=\"data row5 col2\" >20</td>\n",
       "      <td id=\"T_d1847_row5_col3\" class=\"data row5 col3\" >20</td>\n",
       "      <td id=\"T_d1847_row5_col4\" class=\"data row5 col4\" >15</td>\n",
       "      <td id=\"T_d1847_row5_col5\" class=\"data row5 col5\" >0</td>\n",
       "      <td id=\"T_d1847_row5_col6\" class=\"data row5 col6\" >0</td>\n",
       "      <td id=\"T_d1847_row5_col7\" class=\"data row5 col7\" >0</td>\n",
       "      <td id=\"T_d1847_row5_col8\" class=\"data row5 col8\" >0</td>\n",
       "      <td id=\"T_d1847_row5_col9\" class=\"data row5 col9\" >0</td>\n",
       "      <td id=\"T_d1847_row5_col10\" class=\"data row5 col10\" >43</td>\n",
       "      <td id=\"T_d1847_row5_col11\" class=\"data row5 col11\" >224</td>\n",
       "      <td id=\"T_d1847_row5_col12\" class=\"data row5 col12\" >253</td>\n",
       "      <td id=\"T_d1847_row5_col13\" class=\"data row5 col13\" >245</td>\n",
       "      <td id=\"T_d1847_row5_col14\" class=\"data row5 col14\" >74</td>\n",
       "      <td id=\"T_d1847_row5_col15\" class=\"data row5 col15\" >0</td>\n",
       "      <td id=\"T_d1847_row5_col16\" class=\"data row5 col16\" >0</td>\n",
       "      <td id=\"T_d1847_row5_col17\" class=\"data row5 col17\" >0</td>\n",
       "    </tr>\n",
       "    <tr>\n",
       "      <th id=\"T_d1847_level0_row6\" class=\"row_heading level0 row6\" >6</th>\n",
       "      <td id=\"T_d1847_row6_col0\" class=\"data row6 col0\" >0</td>\n",
       "      <td id=\"T_d1847_row6_col1\" class=\"data row6 col1\" >0</td>\n",
       "      <td id=\"T_d1847_row6_col2\" class=\"data row6 col2\" >0</td>\n",
       "      <td id=\"T_d1847_row6_col3\" class=\"data row6 col3\" >0</td>\n",
       "      <td id=\"T_d1847_row6_col4\" class=\"data row6 col4\" >0</td>\n",
       "      <td id=\"T_d1847_row6_col5\" class=\"data row6 col5\" >0</td>\n",
       "      <td id=\"T_d1847_row6_col6\" class=\"data row6 col6\" >0</td>\n",
       "      <td id=\"T_d1847_row6_col7\" class=\"data row6 col7\" >0</td>\n",
       "      <td id=\"T_d1847_row6_col8\" class=\"data row6 col8\" >0</td>\n",
       "      <td id=\"T_d1847_row6_col9\" class=\"data row6 col9\" >0</td>\n",
       "      <td id=\"T_d1847_row6_col10\" class=\"data row6 col10\" >249</td>\n",
       "      <td id=\"T_d1847_row6_col11\" class=\"data row6 col11\" >253</td>\n",
       "      <td id=\"T_d1847_row6_col12\" class=\"data row6 col12\" >245</td>\n",
       "      <td id=\"T_d1847_row6_col13\" class=\"data row6 col13\" >126</td>\n",
       "      <td id=\"T_d1847_row6_col14\" class=\"data row6 col14\" >0</td>\n",
       "      <td id=\"T_d1847_row6_col15\" class=\"data row6 col15\" >0</td>\n",
       "      <td id=\"T_d1847_row6_col16\" class=\"data row6 col16\" >0</td>\n",
       "      <td id=\"T_d1847_row6_col17\" class=\"data row6 col17\" >0</td>\n",
       "    </tr>\n",
       "    <tr>\n",
       "      <th id=\"T_d1847_level0_row7\" class=\"row_heading level0 row7\" >7</th>\n",
       "      <td id=\"T_d1847_row7_col0\" class=\"data row7 col0\" >0</td>\n",
       "      <td id=\"T_d1847_row7_col1\" class=\"data row7 col1\" >0</td>\n",
       "      <td id=\"T_d1847_row7_col2\" class=\"data row7 col2\" >0</td>\n",
       "      <td id=\"T_d1847_row7_col3\" class=\"data row7 col3\" >0</td>\n",
       "      <td id=\"T_d1847_row7_col4\" class=\"data row7 col4\" >0</td>\n",
       "      <td id=\"T_d1847_row7_col5\" class=\"data row7 col5\" >0</td>\n",
       "      <td id=\"T_d1847_row7_col6\" class=\"data row7 col6\" >0</td>\n",
       "      <td id=\"T_d1847_row7_col7\" class=\"data row7 col7\" >14</td>\n",
       "      <td id=\"T_d1847_row7_col8\" class=\"data row7 col8\" >101</td>\n",
       "      <td id=\"T_d1847_row7_col9\" class=\"data row7 col9\" >223</td>\n",
       "      <td id=\"T_d1847_row7_col10\" class=\"data row7 col10\" >253</td>\n",
       "      <td id=\"T_d1847_row7_col11\" class=\"data row7 col11\" >248</td>\n",
       "      <td id=\"T_d1847_row7_col12\" class=\"data row7 col12\" >124</td>\n",
       "      <td id=\"T_d1847_row7_col13\" class=\"data row7 col13\" >0</td>\n",
       "      <td id=\"T_d1847_row7_col14\" class=\"data row7 col14\" >0</td>\n",
       "      <td id=\"T_d1847_row7_col15\" class=\"data row7 col15\" >0</td>\n",
       "      <td id=\"T_d1847_row7_col16\" class=\"data row7 col16\" >0</td>\n",
       "      <td id=\"T_d1847_row7_col17\" class=\"data row7 col17\" >0</td>\n",
       "    </tr>\n",
       "    <tr>\n",
       "      <th id=\"T_d1847_level0_row8\" class=\"row_heading level0 row8\" >8</th>\n",
       "      <td id=\"T_d1847_row8_col0\" class=\"data row8 col0\" >0</td>\n",
       "      <td id=\"T_d1847_row8_col1\" class=\"data row8 col1\" >0</td>\n",
       "      <td id=\"T_d1847_row8_col2\" class=\"data row8 col2\" >0</td>\n",
       "      <td id=\"T_d1847_row8_col3\" class=\"data row8 col3\" >0</td>\n",
       "      <td id=\"T_d1847_row8_col4\" class=\"data row8 col4\" >0</td>\n",
       "      <td id=\"T_d1847_row8_col5\" class=\"data row8 col5\" >11</td>\n",
       "      <td id=\"T_d1847_row8_col6\" class=\"data row8 col6\" >166</td>\n",
       "      <td id=\"T_d1847_row8_col7\" class=\"data row8 col7\" >239</td>\n",
       "      <td id=\"T_d1847_row8_col8\" class=\"data row8 col8\" >253</td>\n",
       "      <td id=\"T_d1847_row8_col9\" class=\"data row8 col9\" >253</td>\n",
       "      <td id=\"T_d1847_row8_col10\" class=\"data row8 col10\" >253</td>\n",
       "      <td id=\"T_d1847_row8_col11\" class=\"data row8 col11\" >187</td>\n",
       "      <td id=\"T_d1847_row8_col12\" class=\"data row8 col12\" >30</td>\n",
       "      <td id=\"T_d1847_row8_col13\" class=\"data row8 col13\" >0</td>\n",
       "      <td id=\"T_d1847_row8_col14\" class=\"data row8 col14\" >0</td>\n",
       "      <td id=\"T_d1847_row8_col15\" class=\"data row8 col15\" >0</td>\n",
       "      <td id=\"T_d1847_row8_col16\" class=\"data row8 col16\" >0</td>\n",
       "      <td id=\"T_d1847_row8_col17\" class=\"data row8 col17\" >0</td>\n",
       "    </tr>\n",
       "    <tr>\n",
       "      <th id=\"T_d1847_level0_row9\" class=\"row_heading level0 row9\" >9</th>\n",
       "      <td id=\"T_d1847_row9_col0\" class=\"data row9 col0\" >0</td>\n",
       "      <td id=\"T_d1847_row9_col1\" class=\"data row9 col1\" >0</td>\n",
       "      <td id=\"T_d1847_row9_col2\" class=\"data row9 col2\" >0</td>\n",
       "      <td id=\"T_d1847_row9_col3\" class=\"data row9 col3\" >0</td>\n",
       "      <td id=\"T_d1847_row9_col4\" class=\"data row9 col4\" >0</td>\n",
       "      <td id=\"T_d1847_row9_col5\" class=\"data row9 col5\" >16</td>\n",
       "      <td id=\"T_d1847_row9_col6\" class=\"data row9 col6\" >248</td>\n",
       "      <td id=\"T_d1847_row9_col7\" class=\"data row9 col7\" >250</td>\n",
       "      <td id=\"T_d1847_row9_col8\" class=\"data row9 col8\" >253</td>\n",
       "      <td id=\"T_d1847_row9_col9\" class=\"data row9 col9\" >253</td>\n",
       "      <td id=\"T_d1847_row9_col10\" class=\"data row9 col10\" >253</td>\n",
       "      <td id=\"T_d1847_row9_col11\" class=\"data row9 col11\" >253</td>\n",
       "      <td id=\"T_d1847_row9_col12\" class=\"data row9 col12\" >232</td>\n",
       "      <td id=\"T_d1847_row9_col13\" class=\"data row9 col13\" >213</td>\n",
       "      <td id=\"T_d1847_row9_col14\" class=\"data row9 col14\" >111</td>\n",
       "      <td id=\"T_d1847_row9_col15\" class=\"data row9 col15\" >2</td>\n",
       "      <td id=\"T_d1847_row9_col16\" class=\"data row9 col16\" >0</td>\n",
       "      <td id=\"T_d1847_row9_col17\" class=\"data row9 col17\" >0</td>\n",
       "    </tr>\n",
       "    <tr>\n",
       "      <th id=\"T_d1847_level0_row10\" class=\"row_heading level0 row10\" >10</th>\n",
       "      <td id=\"T_d1847_row10_col0\" class=\"data row10 col0\" >0</td>\n",
       "      <td id=\"T_d1847_row10_col1\" class=\"data row10 col1\" >0</td>\n",
       "      <td id=\"T_d1847_row10_col2\" class=\"data row10 col2\" >0</td>\n",
       "      <td id=\"T_d1847_row10_col3\" class=\"data row10 col3\" >0</td>\n",
       "      <td id=\"T_d1847_row10_col4\" class=\"data row10 col4\" >0</td>\n",
       "      <td id=\"T_d1847_row10_col5\" class=\"data row10 col5\" >0</td>\n",
       "      <td id=\"T_d1847_row10_col6\" class=\"data row10 col6\" >0</td>\n",
       "      <td id=\"T_d1847_row10_col7\" class=\"data row10 col7\" >43</td>\n",
       "      <td id=\"T_d1847_row10_col8\" class=\"data row10 col8\" >98</td>\n",
       "      <td id=\"T_d1847_row10_col9\" class=\"data row10 col9\" >98</td>\n",
       "      <td id=\"T_d1847_row10_col10\" class=\"data row10 col10\" >208</td>\n",
       "      <td id=\"T_d1847_row10_col11\" class=\"data row10 col11\" >253</td>\n",
       "      <td id=\"T_d1847_row10_col12\" class=\"data row10 col12\" >253</td>\n",
       "      <td id=\"T_d1847_row10_col13\" class=\"data row10 col13\" >253</td>\n",
       "      <td id=\"T_d1847_row10_col14\" class=\"data row10 col14\" >253</td>\n",
       "      <td id=\"T_d1847_row10_col15\" class=\"data row10 col15\" >187</td>\n",
       "      <td id=\"T_d1847_row10_col16\" class=\"data row10 col16\" >22</td>\n",
       "      <td id=\"T_d1847_row10_col17\" class=\"data row10 col17\" >0</td>\n",
       "    </tr>\n",
       "  </tbody>\n",
       "</table>\n"
      ],
      "text/plain": [
       "<pandas.io.formats.style.Styler at 0x7fd8f13a7580>"
      ]
     },
     "execution_count": 18,
     "metadata": {},
     "output_type": "execute_result"
    }
   ],
   "source": [
    "im3_t = tensor(im3)\n",
    "df = pd.DataFrame(im3_t[4:15, 4:22])\n",
    "df.style.set_properties(**{'font-size': '6pt'}).background_gradient('Greys')"
   ]
  },
  {
   "cell_type": "code",
   "execution_count": 19,
   "id": "718ee317-e65a-4697-8f03-45b4db598262",
   "metadata": {},
   "outputs": [
    {
     "data": {
      "text/plain": [
       "(6131, 6265)"
      ]
     },
     "execution_count": 19,
     "metadata": {},
     "output_type": "execute_result"
    }
   ],
   "source": [
    "seven_tensors = [tensor(Image.open(o)) for o in sevens]\n",
    "three_tensors = [tensor(Image.open(o)) for o in threes]\n",
    "len(three_tensors), len(seven_tensors)"
   ]
  },
  {
   "cell_type": "code",
   "execution_count": 21,
   "id": "4c34d5bf-51e6-452a-890c-64201f40defb",
   "metadata": {},
   "outputs": [
    {
     "data": {
      "image/png": "[encoded data removed]",
      "text/plain": [
       "<Figure size 100x100 with 1 Axes>"
      ]
     },
     "metadata": {},
     "output_type": "display_data"
    }
   ],
   "source": [
    "show_image(three_tensors[1]);"
   ]
  },
  {
   "cell_type": "code",
   "execution_count": 22,
   "id": "d255845c-e2c8-40c7-9786-806e80e09e2d",
   "metadata": {},
   "outputs": [
    {
     "data": {
      "text/plain": [
       "torch.Size([6131, 28, 28])"
      ]
     },
     "execution_count": 22,
     "metadata": {},
     "output_type": "execute_result"
    }
   ],
   "source": [
    "stacked_sevens = torch.stack(seven_tensors).float()/255\n",
    "stacked_threes = torch.stack(three_tensors).float()/255\n",
    "stacked_threes.shape"
   ]
  },
  {
   "cell_type": "code",
   "execution_count": 23,
   "id": "77eddab4-1d32-42ea-a461-651a20c639bc",
   "metadata": {},
   "outputs": [
    {
     "data": {
      "text/plain": [
       "3"
      ]
     },
     "execution_count": 23,
     "metadata": {},
     "output_type": "execute_result"
    }
   ],
   "source": [
    "len(stacked_threes.shape)"
   ]
  },
  {
   "cell_type": "code",
   "execution_count": 24,
   "id": "e510c6f8-12c2-46ff-9845-799f96adf8bf",
   "metadata": {},
   "outputs": [
    {
     "data": {
      "text/plain": [
       "3"
      ]
     },
     "execution_count": 24,
     "metadata": {},
     "output_type": "execute_result"
    }
   ],
   "source": [
    "stacked_threes.ndim"
   ]
  },
  {
   "cell_type": "code",
   "execution_count": 27,
   "id": "937d8b9d-1687-49d1-9e54-d3144b280cd0",
   "metadata": {},
   "outputs": [
    {
     "data": {
      "image/png": "[encoded data removed]",
      "text/plain": [
       "<Figure size 100x100 with 1 Axes>"
      ]
     },
     "metadata": {},
     "output_type": "display_data"
    }
   ],
   "source": [
    "mean3 = stacked_threes.mean(0)\n",
    "show_image(mean3);"
   ]
  },
  {
   "cell_type": "code",
   "execution_count": 29,
   "id": "5f9663bf-7378-48a3-a0ac-9455e05dc1fb",
   "metadata": {},
   "outputs": [
    {
     "data": {
      "image/png": "[encoded data removed]",
      "text/plain": [
       "<Figure size 100x100 with 1 Axes>"
      ]
     },
     "metadata": {},
     "output_type": "display_data"
    }
   ],
   "source": [
    "mean7 = stacked_sevens.mean(0)\n",
    "show_image(mean7);"
   ]
  },
  {
   "cell_type": "code",
   "execution_count": 30,
   "id": "3ff01072-629a-48cd-a804-39b92f6bda3a",
   "metadata": {},
   "outputs": [
    {
     "data": {
      "image/png": "[encoded data removed]",
      "text/plain": [
       "<Figure size 100x100 with 1 Axes>"
      ]
     },
     "metadata": {},
     "output_type": "display_data"
    }
   ],
   "source": [
    "a_3 = stacked_threes[1]\n",
    "show_image(a_3);"
   ]
  },
  {
   "cell_type": "code",
   "execution_count": 32,
   "id": "2ce4e21e-b11e-4af5-b8cb-135e5822a9ce",
   "metadata": {},
   "outputs": [
    {
     "data": {
      "text/plain": [
       "(tensor(0.1114), tensor(0.2021))"
      ]
     },
     "execution_count": 32,
     "metadata": {},
     "output_type": "execute_result"
    }
   ],
   "source": [
    "dist_3_abs = (a_3 - mean3).abs().mean()\n",
    "dist_3_sqr = ((a_3 - mean3)**2).mean().sqrt()\n",
    "dist_3_abs, dist_3_sqr"
   ]
  },
  {
   "cell_type": "code",
   "execution_count": 33,
   "id": "025ddbaa-6115-4ebf-9bfc-81e4b0a8d528",
   "metadata": {},
   "outputs": [
    {
     "data": {
      "text/plain": [
       "(tensor(0.1586), tensor(0.3021))"
      ]
     },
     "execution_count": 33,
     "metadata": {},
     "output_type": "execute_result"
    }
   ],
   "source": [
    "F.l1_loss(a_3.float(), mean7), F.mse_loss(a_3, mean7).sqrt()"
   ]
  },
  {
   "cell_type": "code",
   "execution_count": 34,
   "id": "e4fbb655-d24e-4830-8998-54e59ce087ce",
   "metadata": {},
   "outputs": [],
   "source": [
    "data = [[1,2,3], [4,5,6]]\n",
    "arr = array(data)\n",
    "tns = tensor(data)"
   ]
  },
  {
   "cell_type": "code",
   "execution_count": 35,
   "id": "e1f7220f-67a5-422f-a079-3cda1d60c977",
   "metadata": {},
   "outputs": [
    {
     "data": {
      "text/plain": [
       "array([[1, 2, 3],\n",
       "       [4, 5, 6]])"
      ]
     },
     "execution_count": 35,
     "metadata": {},
     "output_type": "execute_result"
    }
   ],
   "source": [
    "arr"
   ]
  },
  {
   "cell_type": "code",
   "execution_count": 36,
   "id": "2304181e-67ac-4554-b7de-a0a29cfa97b0",
   "metadata": {},
   "outputs": [
    {
     "data": {
      "text/plain": [
       "tensor([[1, 2, 3],\n",
       "        [4, 5, 6]])"
      ]
     },
     "execution_count": 36,
     "metadata": {},
     "output_type": "execute_result"
    }
   ],
   "source": [
    "tns"
   ]
  },
  {
   "cell_type": "code",
   "execution_count": 37,
   "id": "ee575d42-b011-4107-b37e-73e3572dc268",
   "metadata": {},
   "outputs": [
    {
     "data": {
      "text/plain": [
       "tensor([4, 5, 6])"
      ]
     },
     "execution_count": 37,
     "metadata": {},
     "output_type": "execute_result"
    }
   ],
   "source": [
    "tns[1]"
   ]
  },
  {
   "cell_type": "code",
   "execution_count": 39,
   "id": "33c1088a-ac87-4632-b086-08e45efad5eb",
   "metadata": {},
   "outputs": [
    {
     "data": {
      "text/plain": [
       "tensor([2, 5])"
      ]
     },
     "execution_count": 39,
     "metadata": {},
     "output_type": "execute_result"
    }
   ],
   "source": [
    "tns[:,1]"
   ]
  },
  {
   "cell_type": "code",
   "execution_count": 40,
   "id": "d7dbc1c2-24a7-460b-8de5-4d48d21f9a33",
   "metadata": {},
   "outputs": [
    {
     "data": {
      "text/plain": [
       "tensor([5, 6])"
      ]
     },
     "execution_count": 40,
     "metadata": {},
     "output_type": "execute_result"
    }
   ],
   "source": [
    "tns[1,1:3]"
   ]
  },
  {
   "cell_type": "code",
   "execution_count": 41,
   "id": "d3a4866d-6d82-46df-ac36-efb9a604dfd0",
   "metadata": {},
   "outputs": [
    {
     "data": {
      "text/plain": [
       "tensor([[2, 3, 4],\n",
       "        [5, 6, 7]])"
      ]
     },
     "execution_count": 41,
     "metadata": {},
     "output_type": "execute_result"
    }
   ],
   "source": [
    "tns+1"
   ]
  },
  {
   "cell_type": "code",
   "execution_count": 42,
   "id": "c73fe5dc-662d-4f6e-a8bc-0bc6aefc7417",
   "metadata": {},
   "outputs": [
    {
     "data": {
      "text/plain": [
       "'torch.LongTensor'"
      ]
     },
     "execution_count": 42,
     "metadata": {},
     "output_type": "execute_result"
    }
   ],
   "source": [
    "tns.type()"
   ]
  },
  {
   "cell_type": "code",
   "execution_count": 43,
   "id": "c268aaa6-621a-4fab-b187-1a28ae240855",
   "metadata": {},
   "outputs": [
    {
     "data": {
      "text/plain": [
       "tensor([[1.5000, 3.0000, 4.5000],\n",
       "        [6.0000, 7.5000, 9.0000]])"
      ]
     },
     "execution_count": 43,
     "metadata": {},
     "output_type": "execute_result"
    }
   ],
   "source": [
    "tns*1.5"
   ]
  },
  {
   "cell_type": "code",
   "execution_count": null,
   "id": "f37fa334-21ba-41c0-ab29-bc38943e0f18",
   "metadata": {},
   "outputs": [],
   "source": []
  }
 ],
 "metadata": {
  "kernelspec": {
   "display_name": "Python 3 (ipykernel)",
   "language": "python",
   "name": "python3"
  },
  "language_info": {
   "codemirror_mode": {
    "name": "ipython",
    "version": 3
   },
   "file_extension": ".py",
   "mimetype": "text/x-python",
   "name": "python",
   "nbconvert_exporter": "python",
   "pygments_lexer": "ipython3",
   "version": "3.10.6"
  }
 },
 "nbformat": 4,
 "nbformat_minor": 5
}
